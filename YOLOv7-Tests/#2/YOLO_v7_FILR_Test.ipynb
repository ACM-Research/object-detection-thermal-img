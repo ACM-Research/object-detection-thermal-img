{
  "cells": [
    {
      "cell_type": "code",
      "execution_count": 1,
      "metadata": {
        "colab": {
          "base_uri": "https://localhost:8080/"
        },
        "id": "DE5p7C0ApJhx",
        "outputId": "71d17558-9890-41d8-f721-b16f0e28f3b6"
      },
      "outputs": [
        {
          "name": "stdout",
          "output_type": "stream",
          "text": [
            "c:\\Users\\LinusFackler\\Documents\\GitHub\\object-detection-data\\yolov7\n"
          ]
        },
        {
          "name": "stderr",
          "output_type": "stream",
          "text": [
            "fatal: destination path 'yolov7' already exists and is not an empty directory.\n"
          ]
        },
        {
          "name": "stdout",
          "output_type": "stream",
          "text": [
            "LICENSE.md\n",
            "README.md\n",
            "cfg\n",
            "data\n",
            "deploy\n",
            "detect.py\n",
            "export.py\n",
            "figure\n",
            "hubconf.py\n",
            "inference\n",
            "models\n",
            "paper\n",
            "requirements.txt\n",
            "runs\n",
            "scripts\n",
            "test.py\n",
            "tools\n",
            "traced_model.pt\n",
            "train.py\n",
            "train_aux.py\n",
            "utils\n",
            "yolov7.pt\n"
          ]
        }
      ],
      "source": [
        "# Downloading YOLO v7 Code\n",
        "!git clone https://github.com/WongKinYiu/yolov7\n",
        "%cd yolov7\n",
        "!ls\n",
        "\n",
        "import os"
      ]
    },
    {
      "cell_type": "code",
      "execution_count": 2,
      "metadata": {
        "colab": {
          "base_uri": "https://localhost:8080/"
        },
        "id": "iAmUzay5vDoA",
        "outputId": "9368417d-30a1-4f14-94ea-510782924321"
      },
      "outputs": [
        {
          "name": "stderr",
          "output_type": "stream",
          "text": [
            "SYSTEM_WGETRC = c:/progra~1/wget/etc/wgetrc\n",
            "syswgetrc = C:\\Program Files (x86)\\GnuWin32/etc/wgetrc\n",
            "--2022-10-25 01:59:06--  https://github.com/WongKinbYiu/yolov7/releases/download/v0.1/yolov7.pt\n",
            "Resolving github.com... 140.82.112.3\n",
            "Connecting to github.com|140.82.112.3|:443... connected.\n",
            "OpenSSL: error:1407742E:SSL routines:SSL23_GET_SERVER_HELLO:tlsv1 alert protocol version\n",
            "Unable to establish SSL connection.\n"
          ]
        }
      ],
      "source": [
        "# Pre-trained weights\n",
        "!wget https://github.com/WongKinbYiu/yolov7/releases/download/v0.1/yolov7.pt"
      ]
    },
    {
      "cell_type": "code",
      "execution_count": 5,
      "metadata": {
        "colab": {
          "base_uri": "https://localhost:8080/"
        },
        "id": "MYsg1wBXvSjS",
        "outputId": "e47f0047-24c1-454f-a088-4beb88e3e6de"
      },
      "outputs": [
        {
          "name": "stdout",
          "output_type": "stream",
          "text": [
            "Namespace(weights=['yolov7.pt'], source='C:\\\\Users\\\\LinusFackler\\\\Documents\\\\GitHub\\\\object-detection-data\\\\FLIR_ADAS_v2\\\\images_thermal_val\\\\data\\\\video-57kWWRyeqqHs3Byei-frame-000966-bDLjKDs3TPANvseae.jpg', img_size=640, conf_thres=0.25, iou_thres=0.45, device='', view_img=False, save_txt=False, save_conf=False, nosave=False, classes=None, agnostic_nms=False, augment=False, update=False, project='runs/detect', name='exp', exist_ok=False, no_trace=False)\n",
            "Fusing layers... \n",
            "RepConv.fuse_repvgg_block\n",
            "RepConv.fuse_repvgg_block\n",
            "RepConv.fuse_repvgg_block\n",
            " Convert model to Traced-model... \n",
            " traced_script_module saved! \n",
            " model is traced! \n",
            "\n",
            "1 person, 6 cars, 1 fire hydrant, 1 parking meter, Done. (1522.0ms) Inference, (3.0ms) NMS\n"
          ]
        },
        {
          "name": "stderr",
          "output_type": "stream",
          "text": [
            "YOLOR  v0.1-115-g072f76c torch 1.12.1+cpu CPU\n",
            "\n",
            "Model Summary: 306 layers, 36905341 parameters, 6652669 gradients\n",
            "c:\\Users\\LinusFackler\\AppData\\Local\\Programs\\Python\\Python310\\lib\\site-packages\\torch\\functional.py:478: UserWarning: torch.meshgrid: in an upcoming release, it will be required to pass the indexing argument. (Triggered internally at  ..\\aten\\src\\ATen\\native\\TensorShape.cpp:2895.)\n",
            "  return _VF.meshgrid(tensors, **kwargs)  # type: ignore[attr-defined]\n",
            "Traceback (most recent call last):\n",
            "  File \"c:\\Users\\LinusFackler\\Documents\\GitHub\\object-detection-data\\yolov7\\detect.py\", line 197, in <module>\n",
            "    detect()\n",
            "  File \"c:\\Users\\LinusFackler\\Documents\\GitHub\\object-detection-data\\yolov7\\detect.py\", line 143, in detect\n",
            "    cv2.imwrite(save_path, im0)\n",
            "cv2.error: OpenCV(4.6.0) D:\\a\\opencv-python\\opencv-python\\opencv\\modules\\imgcodecs\\src\\loadsave.cpp:730: error: (-2:Unspecified error) could not find a writer for the specified extension in function 'cv::imwrite_'\n",
            "\n"
          ]
        }
      ],
      "source": [
        "# Detection\n",
        "!python detect.py --weights yolov7.pt --conf 0.25 --img-size 640 --source C:\\Users\\LinusFackler\\Documents\\GitHub\\object-detection-data\\FLIR_ADAS_v2\\images_thermal_val\\data\\video-57kWWRyeqqHs3Byei-frame-000966-bDLjKDs3TPANvseae.jpg --exist-ok"
      ]
    },
    {
      "cell_type": "code",
      "execution_count": 21,
      "metadata": {
        "id": "AqB8kFxQ1OXG"
      },
      "outputs": [],
      "source": [
        "# Function to visualize detection\n",
        "\n",
        "def visualize_detection(path):\n",
        "  import cv2\n",
        "  import matplotlib.pyplot as plt\n",
        "  %matplotlib inline\n",
        "\n",
        "  image = cv2.imread(path)\n",
        "  height, width = image.shape[:2]\n",
        "  resized_image = cv2.resize(image,(3*width, 3*height), interpolation = cv2.INTER_CUBIC)\n",
        "  fig = plt.gcf()\n",
        "  fig.set_size_inches(18, 10)\n",
        "  plt.axis(\"off\")\n",
        "  plt.imshow(cv2.cvtColor(resized_image, cv2.COLOR_BGR2RGB))\n",
        "  plt.show() "
      ]
    },
    {
      "cell_type": "code",
      "execution_count": null,
      "metadata": {
        "colab": {
          "base_uri": "https://localhost:8080/",
          "height": 575
        },
        "id": "BzxN4qfV3Ygr",
        "outputId": "92560979-2175-4ac1-ae95-868b7e6cf850"
      },
      "outputs": [],
      "source": [
        "visualize_detection(\"\")"
      ]
    },
    {
      "cell_type": "code",
      "execution_count": 1,
      "metadata": {},
      "outputs": [
        {
          "name": "stderr",
          "output_type": "stream",
          "text": [
            "python: can't open file 'c:\\\\Users\\\\LinusFackler\\\\Documents\\\\GitHub\\\\object-detection-data\\\\detect.py': [Errno 2] No such file or directory\n",
            "python: can't open file 'c:\\\\Users\\\\LinusFackler\\\\Documents\\\\GitHub\\\\object-detection-data\\\\detect.py': [Errno 2] No such file or directory\n",
            "python: can't open file 'c:\\\\Users\\\\LinusFackler\\\\Documents\\\\GitHub\\\\object-detection-data\\\\detect.py': [Errno 2] No such file or directory\n",
            "python: can't open file 'c:\\\\Users\\\\LinusFackler\\\\Documents\\\\GitHub\\\\object-detection-data\\\\detect.py': [Errno 2] No such file or directory\n",
            "python: can't open file 'c:\\\\Users\\\\LinusFackler\\\\Documents\\\\GitHub\\\\object-detection-data\\\\detect.py': [Errno 2] No such file or directory\n",
            "python: can't open file 'c:\\\\Users\\\\LinusFackler\\\\Documents\\\\GitHub\\\\object-detection-data\\\\detect.py': [Errno 2] No such file or directory\n",
            "python: can't open file 'c:\\\\Users\\\\LinusFackler\\\\Documents\\\\GitHub\\\\object-detection-data\\\\detect.py': [Errno 2] No such file or directory\n",
            "python: can't open file 'c:\\\\Users\\\\LinusFackler\\\\Documents\\\\GitHub\\\\object-detection-data\\\\detect.py': [Errno 2] No such file or directory\n",
            "python: can't open file 'c:\\\\Users\\\\LinusFackler\\\\Documents\\\\GitHub\\\\object-detection-data\\\\detect.py': [Errno 2] No such file or directory\n",
            "python: can't open file 'c:\\\\Users\\\\LinusFackler\\\\Documents\\\\GitHub\\\\object-detection-data\\\\detect.py': [Errno 2] No such file or directory\n",
            "python: can't open file 'c:\\\\Users\\\\LinusFackler\\\\Documents\\\\GitHub\\\\object-detection-data\\\\detect.py': [Errno 2] No such file or directory\n",
            "python: can't open file 'c:\\\\Users\\\\LinusFackler\\\\Documents\\\\GitHub\\\\object-detection-data\\\\detect.py': [Errno 2] No such file or directory\n",
            "python: can't open file 'c:\\\\Users\\\\LinusFackler\\\\Documents\\\\GitHub\\\\object-detection-data\\\\detect.py': [Errno 2] No such file or directory\n",
            "python: can't open file 'c:\\\\Users\\\\LinusFackler\\\\Documents\\\\GitHub\\\\object-detection-data\\\\detect.py': [Errno 2] No such file or directory\n",
            "python: can't open file 'c:\\\\Users\\\\LinusFackler\\\\Documents\\\\GitHub\\\\object-detection-data\\\\detect.py': [Errno 2] No such file or directory\n",
            "python: can't open file 'c:\\\\Users\\\\LinusFackler\\\\Documents\\\\GitHub\\\\object-detection-data\\\\detect.py': [Errno 2] No such file or directory\n",
            "python: can't open file 'c:\\\\Users\\\\LinusFackler\\\\Documents\\\\GitHub\\\\object-detection-data\\\\detect.py': [Errno 2] No such file or directory\n"
          ]
        },
        {
          "name": "stdout",
          "output_type": "stream",
          "text": [
            "^C\n"
          ]
        },
        {
          "name": "stderr",
          "output_type": "stream",
          "text": [
            "python: can't open file 'c:\\\\Users\\\\LinusFackler\\\\Documents\\\\GitHub\\\\object-detection-data\\\\detect.py': [Errno 2] No such file or directory\n",
            "python: can't open file 'c:\\\\Users\\\\LinusFackler\\\\Documents\\\\GitHub\\\\object-detection-data\\\\detect.py': [Errno 2] No such file or directory\n",
            "python: can't open file 'c:\\\\Users\\\\LinusFackler\\\\Documents\\\\GitHub\\\\object-detection-data\\\\detect.py': [Errno 2] No such file or directory\n",
            "python: can't open file 'c:\\\\Users\\\\LinusFackler\\\\Documents\\\\GitHub\\\\object-detection-data\\\\detect.py': [Errno 2] No such file or directory\n",
            "python: can't open file 'c:\\\\Users\\\\LinusFackler\\\\Documents\\\\GitHub\\\\object-detection-data\\\\detect.py': [Errno 2] No such file or directory\n",
            "python: can't open file 'c:\\\\Users\\\\LinusFackler\\\\Documents\\\\GitHub\\\\object-detection-data\\\\detect.py': [Errno 2] No such file or directory\n",
            "python: can't open file 'c:\\\\Users\\\\LinusFackler\\\\Documents\\\\GitHub\\\\object-detection-data\\\\detect.py': [Errno 2] No such file or directory\n",
            "python: can't open file 'c:\\\\Users\\\\LinusFackler\\\\Documents\\\\GitHub\\\\object-detection-data\\\\detect.py': [Errno 2] No such file or directory\n",
            "python: can't open file 'c:\\\\Users\\\\LinusFackler\\\\Documents\\\\GitHub\\\\object-detection-data\\\\detect.py': [Errno 2] No such file or directory\n",
            "python: can't open file 'c:\\\\Users\\\\LinusFackler\\\\Documents\\\\GitHub\\\\object-detection-data\\\\detect.py': [Errno 2] No such file or directory\n",
            "python: can't open file 'c:\\\\Users\\\\LinusFackler\\\\Documents\\\\GitHub\\\\object-detection-data\\\\detect.py': [Errno 2] No such file or directory\n",
            "python: can't open file 'c:\\\\Users\\\\LinusFackler\\\\Documents\\\\GitHub\\\\object-detection-data\\\\detect.py': [Errno 2] No such file or directory\n",
            "python: can't open file 'c:\\\\Users\\\\LinusFackler\\\\Documents\\\\GitHub\\\\object-detection-data\\\\detect.py': [Errno 2] No such file or directory\n",
            "python: can't open file 'c:\\\\Users\\\\LinusFackler\\\\Documents\\\\GitHub\\\\object-detection-data\\\\detect.py': [Errno 2] No such file or directory\n",
            "python: can't open file 'c:\\\\Users\\\\LinusFackler\\\\Documents\\\\GitHub\\\\object-detection-data\\\\detect.py': [Errno 2] No such file or directory\n",
            "python: can't open file 'c:\\\\Users\\\\LinusFackler\\\\Documents\\\\GitHub\\\\object-detection-data\\\\detect.py': [Errno 2] No such file or directory\n",
            "python: can't open file 'c:\\\\Users\\\\LinusFackler\\\\Documents\\\\GitHub\\\\object-detection-data\\\\detect.py': [Errno 2] No such file or directory\n",
            "python: can't open file 'c:\\\\Users\\\\LinusFackler\\\\Documents\\\\GitHub\\\\object-detection-data\\\\detect.py': [Errno 2] No such file or directory\n",
            "python: can't open file 'c:\\\\Users\\\\LinusFackler\\\\Documents\\\\GitHub\\\\object-detection-data\\\\detect.py': [Errno 2] No such file or directory\n",
            "python: can't open file 'c:\\\\Users\\\\LinusFackler\\\\Documents\\\\GitHub\\\\object-detection-data\\\\detect.py': [Errno 2] No such file or directory\n",
            "python: can't open file 'c:\\\\Users\\\\LinusFackler\\\\Documents\\\\GitHub\\\\object-detection-data\\\\detect.py': [Errno 2] No such file or directory\n",
            "python: can't open file 'c:\\\\Users\\\\LinusFackler\\\\Documents\\\\GitHub\\\\object-detection-data\\\\detect.py': [Errno 2] No such file or directory\n",
            "python: can't open file 'c:\\\\Users\\\\LinusFackler\\\\Documents\\\\GitHub\\\\object-detection-data\\\\detect.py': [Errno 2] No such file or directory\n",
            "python: can't open file 'c:\\\\Users\\\\LinusFackler\\\\Documents\\\\GitHub\\\\object-detection-data\\\\detect.py': [Errno 2] No such file or directory\n",
            "python: can't open file 'c:\\\\Users\\\\LinusFackler\\\\Documents\\\\GitHub\\\\object-detection-data\\\\detect.py': [Errno 2] No such file or directory\n",
            "python: can't open file 'c:\\\\Users\\\\LinusFackler\\\\Documents\\\\GitHub\\\\object-detection-data\\\\detect.py': [Errno 2] No such file or directory\n",
            "python: can't open file 'c:\\\\Users\\\\LinusFackler\\\\Documents\\\\GitHub\\\\object-detection-data\\\\detect.py': [Errno 2] No such file or directory\n",
            "python: can't open file 'c:\\\\Users\\\\LinusFackler\\\\Documents\\\\GitHub\\\\object-detection-data\\\\detect.py': [Errno 2] No such file or directory\n",
            "python: can't open file 'c:\\\\Users\\\\LinusFackler\\\\Documents\\\\GitHub\\\\object-detection-data\\\\detect.py': [Errno 2] No such file or directory\n",
            "python: can't open file 'c:\\\\Users\\\\LinusFackler\\\\Documents\\\\GitHub\\\\object-detection-data\\\\detect.py': [Errno 2] No such file or directory\n",
            "python: can't open file 'c:\\\\Users\\\\LinusFackler\\\\Documents\\\\GitHub\\\\object-detection-data\\\\detect.py': [Errno 2] No such file or directory\n",
            "python: can't open file 'c:\\\\Users\\\\LinusFackler\\\\Documents\\\\GitHub\\\\object-detection-data\\\\detect.py': [Errno 2] No such file or directory\n",
            "python: can't open file 'c:\\\\Users\\\\LinusFackler\\\\Documents\\\\GitHub\\\\object-detection-data\\\\detect.py': [Errno 2] No such file or directory\n",
            "python: can't open file 'c:\\\\Users\\\\LinusFackler\\\\Documents\\\\GitHub\\\\object-detection-data\\\\detect.py': [Errno 2] No such file or directory\n",
            "python: can't open file 'c:\\\\Users\\\\LinusFackler\\\\Documents\\\\GitHub\\\\object-detection-data\\\\detect.py': [Errno 2] No such file or directory\n",
            "python: can't open file 'c:\\\\Users\\\\LinusFackler\\\\Documents\\\\GitHub\\\\object-detection-data\\\\detect.py': [Errno 2] No such file or directory\n",
            "python: can't open file 'c:\\\\Users\\\\LinusFackler\\\\Documents\\\\GitHub\\\\object-detection-data\\\\detect.py': [Errno 2] No such file or directory\n",
            "python: can't open file 'c:\\\\Users\\\\LinusFackler\\\\Documents\\\\GitHub\\\\object-detection-data\\\\detect.py': [Errno 2] No such file or directory\n",
            "python: can't open file 'c:\\\\Users\\\\LinusFackler\\\\Documents\\\\GitHub\\\\object-detection-data\\\\detect.py': [Errno 2] No such file or directory\n",
            "python: can't open file 'c:\\\\Users\\\\LinusFackler\\\\Documents\\\\GitHub\\\\object-detection-data\\\\detect.py': [Errno 2] No such file or directory\n",
            "python: can't open file 'c:\\\\Users\\\\LinusFackler\\\\Documents\\\\GitHub\\\\object-detection-data\\\\detect.py': [Errno 2] No such file or directory\n",
            "python: can't open file 'c:\\\\Users\\\\LinusFackler\\\\Documents\\\\GitHub\\\\object-detection-data\\\\detect.py': [Errno 2] No such file or directory\n",
            "python: can't open file 'c:\\\\Users\\\\LinusFackler\\\\Documents\\\\GitHub\\\\object-detection-data\\\\detect.py': [Errno 2] No such file or directory\n",
            "python: can't open file 'c:\\\\Users\\\\LinusFackler\\\\Documents\\\\GitHub\\\\object-detection-data\\\\detect.py': [Errno 2] No such file or directory\n",
            "python: can't open file 'c:\\\\Users\\\\LinusFackler\\\\Documents\\\\GitHub\\\\object-detection-data\\\\detect.py': [Errno 2] No such file or directory\n",
            "python: can't open file 'c:\\\\Users\\\\LinusFackler\\\\Documents\\\\GitHub\\\\object-detection-data\\\\detect.py': [Errno 2] No such file or directory\n",
            "python: can't open file 'c:\\\\Users\\\\LinusFackler\\\\Documents\\\\GitHub\\\\object-detection-data\\\\detect.py': [Errno 2] No such file or directory\n",
            "python: can't open file 'c:\\\\Users\\\\LinusFackler\\\\Documents\\\\GitHub\\\\object-detection-data\\\\detect.py': [Errno 2] No such file or directory\n",
            "python: can't open file 'c:\\\\Users\\\\LinusFackler\\\\Documents\\\\GitHub\\\\object-detection-data\\\\detect.py': [Errno 2] No such file or directory\n",
            "python: can't open file 'c:\\\\Users\\\\LinusFackler\\\\Documents\\\\GitHub\\\\object-detection-data\\\\detect.py': [Errno 2] No such file or directory\n",
            "python: can't open file 'c:\\\\Users\\\\LinusFackler\\\\Documents\\\\GitHub\\\\object-detection-data\\\\detect.py': [Errno 2] No such file or directory\n",
            "python: can't open file 'c:\\\\Users\\\\LinusFackler\\\\Documents\\\\GitHub\\\\object-detection-data\\\\detect.py': [Errno 2] No such file or directory\n",
            "python: can't open file 'c:\\\\Users\\\\LinusFackler\\\\Documents\\\\GitHub\\\\object-detection-data\\\\detect.py': [Errno 2] No such file or directory\n",
            "python: can't open file 'c:\\\\Users\\\\LinusFackler\\\\Documents\\\\GitHub\\\\object-detection-data\\\\detect.py': [Errno 2] No such file or directory\n",
            "python: can't open file 'c:\\\\Users\\\\LinusFackler\\\\Documents\\\\GitHub\\\\object-detection-data\\\\detect.py': [Errno 2] No such file or directory\n",
            "python: can't open file 'c:\\\\Users\\\\LinusFackler\\\\Documents\\\\GitHub\\\\object-detection-data\\\\detect.py': [Errno 2] No such file or directory\n",
            "python: can't open file 'c:\\\\Users\\\\LinusFackler\\\\Documents\\\\GitHub\\\\object-detection-data\\\\detect.py': [Errno 2] No such file or directory\n",
            "python: can't open file 'c:\\\\Users\\\\LinusFackler\\\\Documents\\\\GitHub\\\\object-detection-data\\\\detect.py': [Errno 2] No such file or directory\n",
            "python: can't open file 'c:\\\\Users\\\\LinusFackler\\\\Documents\\\\GitHub\\\\object-detection-data\\\\detect.py': [Errno 2] No such file or directory\n",
            "python: can't open file 'c:\\\\Users\\\\LinusFackler\\\\Documents\\\\GitHub\\\\object-detection-data\\\\detect.py': [Errno 2] No such file or directory\n",
            "python: can't open file 'c:\\\\Users\\\\LinusFackler\\\\Documents\\\\GitHub\\\\object-detection-data\\\\detect.py': [Errno 2] No such file or directory\n",
            "python: can't open file 'c:\\\\Users\\\\LinusFackler\\\\Documents\\\\GitHub\\\\object-detection-data\\\\detect.py': [Errno 2] No such file or directory\n",
            "python: can't open file 'c:\\\\Users\\\\LinusFackler\\\\Documents\\\\GitHub\\\\object-detection-data\\\\detect.py': [Errno 2] No such file or directory\n",
            "python: can't open file 'c:\\\\Users\\\\LinusFackler\\\\Documents\\\\GitHub\\\\object-detection-data\\\\detect.py': [Errno 2] No such file or directory\n",
            "python: can't open file 'c:\\\\Users\\\\LinusFackler\\\\Documents\\\\GitHub\\\\object-detection-data\\\\detect.py': [Errno 2] No such file or directory\n",
            "python: can't open file 'c:\\\\Users\\\\LinusFackler\\\\Documents\\\\GitHub\\\\object-detection-data\\\\detect.py': [Errno 2] No such file or directory\n",
            "python: can't open file 'c:\\\\Users\\\\LinusFackler\\\\Documents\\\\GitHub\\\\object-detection-data\\\\detect.py': [Errno 2] No such file or directory\n",
            "python: can't open file 'c:\\\\Users\\\\LinusFackler\\\\Documents\\\\GitHub\\\\object-detection-data\\\\detect.py': [Errno 2] No such file or directory\n",
            "python: can't open file 'c:\\\\Users\\\\LinusFackler\\\\Documents\\\\GitHub\\\\object-detection-data\\\\detect.py': [Errno 2] No such file or directory\n",
            "python: can't open file 'c:\\\\Users\\\\LinusFackler\\\\Documents\\\\GitHub\\\\object-detection-data\\\\detect.py': [Errno 2] No such file or directory\n",
            "python: can't open file 'c:\\\\Users\\\\LinusFackler\\\\Documents\\\\GitHub\\\\object-detection-data\\\\detect.py': [Errno 2] No such file or directory\n",
            "python: can't open file 'c:\\\\Users\\\\LinusFackler\\\\Documents\\\\GitHub\\\\object-detection-data\\\\detect.py': [Errno 2] No such file or directory\n",
            "python: can't open file 'c:\\\\Users\\\\LinusFackler\\\\Documents\\\\GitHub\\\\object-detection-data\\\\detect.py': [Errno 2] No such file or directory\n",
            "python: can't open file 'c:\\\\Users\\\\LinusFackler\\\\Documents\\\\GitHub\\\\object-detection-data\\\\detect.py': [Errno 2] No such file or directory\n",
            "python: can't open file 'c:\\\\Users\\\\LinusFackler\\\\Documents\\\\GitHub\\\\object-detection-data\\\\detect.py': [Errno 2] No such file or directory\n",
            "python: can't open file 'c:\\\\Users\\\\LinusFackler\\\\Documents\\\\GitHub\\\\object-detection-data\\\\detect.py': [Errno 2] No such file or directory\n",
            "python: can't open file 'c:\\\\Users\\\\LinusFackler\\\\Documents\\\\GitHub\\\\object-detection-data\\\\detect.py': [Errno 2] No such file or directory\n",
            "python: can't open file 'c:\\\\Users\\\\LinusFackler\\\\Documents\\\\GitHub\\\\object-detection-data\\\\detect.py': [Errno 2] No such file or directory\n",
            "python: can't open file 'c:\\\\Users\\\\LinusFackler\\\\Documents\\\\GitHub\\\\object-detection-data\\\\detect.py': [Errno 2] No such file or directory\n",
            "python: can't open file 'c:\\\\Users\\\\LinusFackler\\\\Documents\\\\GitHub\\\\object-detection-data\\\\detect.py': [Errno 2] No such file or directory\n",
            "python: can't open file 'c:\\\\Users\\\\LinusFackler\\\\Documents\\\\GitHub\\\\object-detection-data\\\\detect.py': [Errno 2] No such file or directory\n",
            "python: can't open file 'c:\\\\Users\\\\LinusFackler\\\\Documents\\\\GitHub\\\\object-detection-data\\\\detect.py': [Errno 2] No such file or directory\n",
            "python: can't open file 'c:\\\\Users\\\\LinusFackler\\\\Documents\\\\GitHub\\\\object-detection-data\\\\detect.py': [Errno 2] No such file or directory\n",
            "python: can't open file 'c:\\\\Users\\\\LinusFackler\\\\Documents\\\\GitHub\\\\object-detection-data\\\\detect.py': [Errno 2] No such file or directory\n",
            "python: can't open file 'c:\\\\Users\\\\LinusFackler\\\\Documents\\\\GitHub\\\\object-detection-data\\\\detect.py': [Errno 2] No such file or directory\n",
            "python: can't open file 'c:\\\\Users\\\\LinusFackler\\\\Documents\\\\GitHub\\\\object-detection-data\\\\detect.py': [Errno 2] No such file or directory\n",
            "python: can't open file 'c:\\\\Users\\\\LinusFackler\\\\Documents\\\\GitHub\\\\object-detection-data\\\\detect.py': [Errno 2] No such file or directory\n"
          ]
        }
      ],
      "source": [
        "directory = r'C:\\Users\\LinusFackler\\Documents\\GitHub\\object-detection-data\\FLIR_ADAS_v2\\images_thermal_val\\data'\n",
        "\n",
        "for filename in os.listdir(directory):\n",
        "    f = os.path.join(directory, filename)\n",
        "    !python detect.py --weights yolov7.pt --conf 0.25 --img-size 640 --source {f}"
      ]
    }
  ],
  "metadata": {
    "colab": {
      "collapsed_sections": [],
      "provenance": []
    },
    "kernelspec": {
      "display_name": "Python 3.10.7 64-bit",
      "language": "python",
      "name": "python3"
    },
    "language_info": {
      "codemirror_mode": {
        "name": "ipython",
        "version": 3
      },
      "file_extension": ".py",
      "mimetype": "text/x-python",
      "name": "python",
      "nbconvert_exporter": "python",
      "pygments_lexer": "ipython3",
      "version": "3.10.7"
    },
    "vscode": {
      "interpreter": {
        "hash": "e7465eb9afc992100131216f54c47144a634f626a570bde2e50dfefd4c49ff95"
      }
    }
  },
  "nbformat": 4,
  "nbformat_minor": 0
}
